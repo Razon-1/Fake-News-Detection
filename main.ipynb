{
 "cells": [
  {
   "cell_type": "markdown",
   "id": "206c0863",
   "metadata": {},
   "source": [
    "# 📦 Import Libraries"
   ]
  },
  {
   "cell_type": "code",
   "execution_count": 168,
   "id": "333d8b46",
   "metadata": {},
   "outputs": [],
   "source": [
    "import pandas as pd\n",
    "import numpy as np\n",
    "import matplotlib.pyplot as plt\n",
    "import seaborn as sns\n",
    "import warnings\n",
    "warnings.filterwarnings(\"ignore\")"
   ]
  },
  {
   "cell_type": "markdown",
   "id": "906ce238",
   "metadata": {},
   "source": [
    "# **ML & NLP Libraries**"
   ]
  },
  {
   "cell_type": "code",
   "execution_count": 169,
   "id": "4d1237bc",
   "metadata": {},
   "outputs": [],
   "source": [
    "from sklearn.model_selection import train_test_split\n",
    "from sklearn.feature_extraction.text import TfidfVectorizer\n",
    "from sklearn.preprocessing import StandardScaler\n",
    "from sklearn.feature_selection import SelectKBest, chi2"
   ]
  },
  {
   "cell_type": "markdown",
   "id": "873626f5",
   "metadata": {},
   "source": [
    "ML Models and Evaluation"
   ]
  },
  {
   "cell_type": "code",
   "execution_count": 170,
   "id": "5fa9ac1e",
   "metadata": {},
   "outputs": [],
   "source": [
    "from sklearn.ensemble import RandomForestClassifier, VotingClassifier\n",
    "from sklearn.linear_model import LogisticRegression\n",
    "from sklearn.neighbors import KNeighborsClassifier\n",
    "from sklearn.tree import DecisionTreeClassifier\n",
    "from sklearn.metrics import accuracy_score, classification_report, confusion_matrix, precision_score, recall_score, f1_score\n"
   ]
  },
  {
   "cell_type": "markdown",
   "id": "9d8b69ef",
   "metadata": {},
   "source": [
    "Load Dataset"
   ]
  },
  {
   "cell_type": "code",
   "execution_count": 171,
   "id": "f6ca32f1",
   "metadata": {},
   "outputs": [
    {
     "name": "stdout",
     "output_type": "stream",
     "text": [
      "Fake.csv shape: 23481 rows, 4 columns\n",
      "True.csv shape: 21417 rows, 4 columns\n",
      "True.csv shape: 21417 rows, 4 columns\n"
     ]
    }
   ],
   "source": [
    "fake_df = pd.read_csv(\"Fake.csv\")\n",
    "print(f\"Fake.csv shape: {fake_df.shape[0]} rows, {fake_df.shape[1]} columns\")\n",
    "true_df = pd.read_csv(\"True.csv\")\n",
    "print(f\"True.csv shape: {true_df.shape[0]} rows, {true_df.shape[1]} columns\")"
   ]
  },
  {
   "cell_type": "markdown",
   "id": "941f5543",
   "metadata": {},
   "source": [
    "Add labels"
   ]
  },
  {
   "cell_type": "code",
   "execution_count": 172,
   "id": "e6835225",
   "metadata": {},
   "outputs": [],
   "source": [
    "fake_df['label'] = 0  # Fake\n",
    "true_df['label'] = 1  # True"
   ]
  },
  {
   "cell_type": "markdown",
   "id": "f8b408c2",
   "metadata": {},
   "source": [
    "Combine Dataset"
   ]
  },
  {
   "cell_type": "code",
   "execution_count": 173,
   "id": "71ddbb16",
   "metadata": {},
   "outputs": [
    {
     "name": "stdout",
     "output_type": "stream",
     "text": [
      "Combined dataset shape: 44898 rows, 5 columns\n"
     ]
    }
   ],
   "source": [
    "df = pd.concat([fake_df, true_df], axis=0).reset_index(drop=True)\n",
    "print(f\"Combined dataset shape: {df.shape[0]} rows, {df.shape[1]} columns\")"
   ]
  },
  {
   "cell_type": "markdown",
   "id": "e30274db",
   "metadata": {},
   "source": [
    " Data Preprocessing"
   ]
  },
  {
   "cell_type": "code",
   "execution_count": 174,
   "id": "3d1b7385",
   "metadata": {},
   "outputs": [],
   "source": [
    "# Drop nulls if any\n",
    "df.dropna(inplace=True)\n",
    "\n",
    "# Combine title + text (optional)\n",
    "df['content'] = df['title'] + \" \" + df['text']\n",
    "df['content'] = df['content'].str.lower().str.replace(r\"[^a-zA-Z\\s]\", \"\", regex=True)"
   ]
  },
  {
   "cell_type": "code",
   "execution_count": 175,
   "id": "409badd8",
   "metadata": {},
   "outputs": [
    {
     "name": "stdout",
     "output_type": "stream",
     "text": [
      "Missing values in each column:\n",
      "title      0\n",
      "text       0\n",
      "subject    0\n",
      "date       0\n",
      "label      0\n",
      "content    0\n",
      "dtype: int64\n",
      "\n",
      "Percentage of missing values in each column:\n",
      "title      0.0\n",
      "text       0.0\n",
      "subject    0.0\n",
      "date       0.0\n",
      "label      0.0\n",
      "content    0.0\n",
      "dtype: float64\n"
     ]
    }
   ],
   "source": [
    "print(\"Missing values in each column:\")\n",
    "print(df.isnull().sum())\n",
    "print(\"\\nPercentage of missing values in each column:\")\n",
    "print((df.isnull().mean() * 100).round(2))"
   ]
  },
  {
   "cell_type": "markdown",
   "id": "3b96181b",
   "metadata": {},
   "source": [
    "Fix Outliers"
   ]
  },
  {
   "cell_type": "code",
   "execution_count": 176,
   "id": "b295a621",
   "metadata": {},
   "outputs": [
    {
     "name": "stdout",
     "output_type": "stream",
     "text": [
      "Removed 0 rows with empty or very short content (less than 10 characters).\n",
      "Capped article length at 9044 characters (99th percentile).\n"
     ]
    }
   ],
   "source": [
    "min_length = 10\n",
    "initial_count = len(df)\n",
    "df = df[df['content'].str.len() >= min_length]\n",
    "print(f\"Removed {initial_count - len(df)} rows with empty or very short content (less than {min_length} characters).\")\n",
    "\n",
    "max_length = df['content'].str.len().quantile(0.99)\n",
    "df['content'] = df['content'].apply(lambda x: x[:int(max_length)])\n",
    "print(f\"Capped article length at {int(max_length)} characters (99th percentile).\")"
   ]
  },
  {
   "cell_type": "markdown",
   "id": "1656e3bc",
   "metadata": {},
   "source": [
    "Features & Labels"
   ]
  },
  {
   "cell_type": "code",
   "execution_count": 177,
   "id": "ee1567fd",
   "metadata": {},
   "outputs": [],
   "source": [
    "X = df['content']\n",
    "y = df['label']\n",
    "# Train-test split\n",
    "X_train, X_test, y_train, y_test = train_test_split(\n",
    "    X, y, test_size=0.2, stratify=y, random_state=42\n",
    ")"
   ]
  },
  {
   "cell_type": "markdown",
   "id": "54912f46",
   "metadata": {},
   "source": [
    "🔹 Feature Selection"
   ]
  },
  {
   "cell_type": "code",
   "execution_count": 178,
   "id": "75390349",
   "metadata": {},
   "outputs": [],
   "source": [
    "selector = SelectKBest(chi2, k=5000)\n",
    "X_train_sel = selector.fit_transform(X_train_vec, y_train)\n",
    "X_test_sel = selector.transform(X_test_vec)"
   ]
  },
  {
   "cell_type": "markdown",
   "id": "31c833b5",
   "metadata": {},
   "source": [
    "🔹 Normalization"
   ]
  },
  {
   "cell_type": "code",
   "execution_count": 179,
   "id": "b08ae6f0",
   "metadata": {},
   "outputs": [],
   "source": [
    "scaler = StandardScaler(with_mean=False)\n",
    "X_train_scaled = scaler.fit_transform(X_train_sel)\n",
    "X_test_scaled = scaler.transform(X_test_sel)"
   ]
  },
  {
   "cell_type": "markdown",
   "id": "fdf44fc9",
   "metadata": {},
   "source": [
    "Model Setup"
   ]
  },
  {
   "cell_type": "code",
   "execution_count": 180,
   "id": "4eff00d3",
   "metadata": {},
   "outputs": [],
   "source": [
    "models = {\n",
    "    \"Random Forest\": RandomForestClassifier(n_estimators=100),\n",
    "    \"Logistic Regression\": LogisticRegression(max_iter=1000),\n",
    "    \"KNN\": KNeighborsClassifier(),\n",
    "    \"Decision Tree\": DecisionTreeClassifier()\n",
    "}\n",
    "\n",
    "results = {}"
   ]
  },
  {
   "cell_type": "markdown",
   "id": "a1ba4e63",
   "metadata": {},
   "source": [
    " Training & Evaluation"
   ]
  },
  {
   "cell_type": "code",
   "execution_count": 181,
   "id": "f605f3d3",
   "metadata": {},
   "outputs": [
    {
     "name": "stdout",
     "output_type": "stream",
     "text": [
      "\n",
      "📌 Random Forest\n",
      "Accuracy: 0.998218262806236\n",
      "Precision: 0.9983652498832322\n",
      "Recall: 0.9978991596638656\n",
      "F1 Score: 0.9981321503618958\n",
      "Confusion Matrix:\n",
      " [[4689    7]\n",
      " [   9 4275]]\n",
      "\n",
      "📌 Logistic Regression\n",
      "Accuracy: 0.995879732739421\n",
      "Precision: 0.9957973383142658\n",
      "Recall: 0.9955648926237162\n",
      "F1 Score: 0.9956811019026497\n",
      "Confusion Matrix:\n",
      " [[4678   18]\n",
      " [  19 4265]]\n",
      "\n",
      "📌 Logistic Regression\n",
      "Accuracy: 0.995879732739421\n",
      "Precision: 0.9957973383142658\n",
      "Recall: 0.9955648926237162\n",
      "F1 Score: 0.9956811019026497\n",
      "Confusion Matrix:\n",
      " [[4678   18]\n",
      " [  19 4265]]\n",
      "\n",
      "📌 KNN\n",
      "Accuracy: 0.7047884187082405\n",
      "Precision: 0.9695227142035653\n",
      "Recall: 0.39355742296918766\n",
      "F1 Score: 0.5598538934086004\n",
      "Confusion Matrix:\n",
      " [[4643   53]\n",
      " [2598 1686]]\n",
      "\n",
      "📌 KNN\n",
      "Accuracy: 0.7047884187082405\n",
      "Precision: 0.9695227142035653\n",
      "Recall: 0.39355742296918766\n",
      "F1 Score: 0.5598538934086004\n",
      "Confusion Matrix:\n",
      " [[4643   53]\n",
      " [2598 1686]]\n",
      "\n",
      "📌 Decision Tree\n",
      "Accuracy: 0.9957683741648107\n",
      "Precision: 0.9957963568425969\n",
      "Recall: 0.9953314659197012\n",
      "F1 Score: 0.9955638571095027\n",
      "Confusion Matrix:\n",
      " [[4678   18]\n",
      " [  20 4264]]\n",
      "\n",
      "📌 Decision Tree\n",
      "Accuracy: 0.9957683741648107\n",
      "Precision: 0.9957963568425969\n",
      "Recall: 0.9953314659197012\n",
      "F1 Score: 0.9955638571095027\n",
      "Confusion Matrix:\n",
      " [[4678   18]\n",
      " [  20 4264]]\n"
     ]
    }
   ],
   "source": [
    "for name, model in models.items():\n",
    "    model.fit(X_train_scaled, y_train)\n",
    "    y_pred = model.predict(X_test_scaled)\n",
    "\n",
    "    acc = accuracy_score(y_test, y_pred)\n",
    "    pre = precision_score(y_test, y_pred)\n",
    "    rec = recall_score(y_test, y_pred)\n",
    "    f1 = f1_score(y_test, y_pred)\n",
    "\n",
    "    print(f\"\\n📌 {name}\")\n",
    "    print(\"Accuracy:\", acc)\n",
    "    print(\"Precision:\", pre)\n",
    "    print(\"Recall:\", rec)\n",
    "    print(\"F1 Score:\", f1)\n",
    "    print(\"Confusion Matrix:\\n\", confusion_matrix(y_test, y_pred))\n",
    "\n",
    "    results[name] = [acc, pre, rec, f1]"
   ]
  },
  {
   "cell_type": "markdown",
   "id": "c85c02fc",
   "metadata": {},
   "source": [
    " 🔹 Ensemble: Voting Classifier"
   ]
  },
  {
   "cell_type": "code",
   "execution_count": 182,
   "id": "b989bd15",
   "metadata": {},
   "outputs": [
    {
     "name": "stdout",
     "output_type": "stream",
     "text": [
      "\n",
      "📌 Ensemble Voting Classifier (Models: Random Forest, Logistic Regression, Decision Tree)\n",
      "Accuracy: 0.9986636971046771\n",
      "F1 Score: 0.9986000933271115\n",
      "Confusion Matrix:\n",
      " [[4688    8]\n",
      " [   4 4280]]\n",
      "\n",
      "🏆 Best Individual Model: Random Forest (F1 Score: 0.9981)\n"
     ]
    }
   ],
   "source": [
    "voting_model = VotingClassifier(\n",
    "    estimators=[\n",
    "        ('rf', models[\"Random Forest\"]),\n",
    "        ('lr', models[\"Logistic Regression\"]),\n",
    "        ('dt', models[\"Decision Tree\"])\n",
    "    ],\n",
    "    voting='hard'\n",
    ")\n",
    "voting_model.fit(X_train_scaled, y_train)\n",
    "y_vote = voting_model.predict(X_test_scaled)\n",
    "\n",
    "model_names = []\n",
    "for name, model in voting_model.estimators:\n",
    "    if isinstance(model, RandomForestClassifier):\n",
    "        model_names.append(\"Random Forest\")\n",
    "    elif isinstance(model, LogisticRegression):\n",
    "        model_names.append(\"Logistic Regression\")\n",
    "    elif isinstance(model, KNeighborsClassifier):\n",
    "        model_names.append(\"KNN\")\n",
    "    elif isinstance(model, DecisionTreeClassifier):\n",
    "        model_names.append(\"Decision Tree\")\n",
    "    else:\n",
    "        model_names.append(name)\n",
    "\n",
    "# Evaluate all models to find the best one\n",
    "best_model = None\n",
    "best_f1 = -1\n",
    "for name, model in models.items():\n",
    "    y_pred = model.predict(X_test_scaled)\n",
    "    f1 = f1_score(y_test, y_pred)\n",
    "    if f1 > best_f1:\n",
    "        best_f1 = f1\n",
    "        best_model = name\n",
    "\n",
    "print(f\"\\n📌 Ensemble Voting Classifier (Models: {', '.join(model_names)})\")\n",
    "print(\"Accuracy:\", accuracy_score(y_test, y_vote))\n",
    "print(\"F1 Score:\", f1_score(y_test, y_vote))\n",
    "print(\"Confusion Matrix:\\n\", confusion_matrix(y_test, y_vote))\n",
    "print(f\"\\n🏆 Best Individual Model: {best_model} (F1 Score: {best_f1:.4f})\")"
   ]
  },
  {
   "cell_type": "markdown",
   "id": "612b7b33",
   "metadata": {},
   "source": [
    "Visualization:"
   ]
  },
  {
   "cell_type": "code",
   "execution_count": 140,
   "id": "80eb1058",
   "metadata": {},
   "outputs": [
    {
     "data": {
      "image/png": "[encoded data removed]",
      "text/plain": [
       "<Figure size 1200x600 with 1 Axes>"
      ]
     },
     "metadata": {},
     "output_type": "display_data"
    }
   ],
   "source": [
    "results_df = pd.DataFrame(results, index=[\"Accuracy\", \"Precision\", \"Recall\", \"F1\"]).T\n",
    "results_df.plot(kind='bar', figsize=(12, 6), title=\"Model Performance Comparison\")\n",
    "plt.ylabel(\"Score\")\n",
    "plt.ylim(0.5, 1.0)\n",
    "plt.grid(True)\n",
    "plt.tight_layout()\n",
    "plt.show()"
   ]
  },
  {
   "cell_type": "markdown",
   "id": "4cd76c55",
   "metadata": {},
   "source": [
    "Check Model-Fit"
   ]
  },
  {
   "cell_type": "code",
   "execution_count": 141,
   "id": "c175f742",
   "metadata": {},
   "outputs": [
    {
     "name": "stdout",
     "output_type": "stream",
     "text": [
      "\n",
      "📌 Random Forest\n",
      "Training Accuracy: 1.0\n",
      "Testing Accuracy : 0.9984\n",
      "Precision         : 0.9979\n",
      "Recall            : 0.9988\n",
      "F1 Score          : 0.9984\n",
      "Confusion Matrix:\n",
      " [[4687    9]\n",
      " [   5 4279]]\n",
      "🔍 Fit Check: ✅ Model is well-fitted.\n",
      "\n",
      "📌 Logistic Regression\n",
      "Training Accuracy: 1.0\n",
      "Testing Accuracy : 0.9959\n",
      "Precision         : 0.9958\n",
      "Recall            : 0.9956\n",
      "F1 Score          : 0.9957\n",
      "Confusion Matrix:\n",
      " [[4678   18]\n",
      " [  19 4265]]\n",
      "🔍 Fit Check: ✅ Model is well-fitted.\n",
      "\n",
      "📌 Logistic Regression\n",
      "Training Accuracy: 1.0\n",
      "Testing Accuracy : 0.9959\n",
      "Precision         : 0.9958\n",
      "Recall            : 0.9956\n",
      "F1 Score          : 0.9957\n",
      "Confusion Matrix:\n",
      " [[4678   18]\n",
      " [  19 4265]]\n",
      "🔍 Fit Check: ✅ Model is well-fitted.\n"
     ]
    },
    {
     "ename": "KeyboardInterrupt",
     "evalue": "",
     "output_type": "error",
     "traceback": [
      "\u001b[31m---------------------------------------------------------------------------\u001b[39m",
      "\u001b[31mKeyboardInterrupt\u001b[39m                         Traceback (most recent call last)",
      "\u001b[36mCell\u001b[39m\u001b[36m \u001b[39m\u001b[32mIn[141]\u001b[39m\u001b[32m, line 4\u001b[39m\n\u001b[32m      2\u001b[39m \u001b[38;5;28;01mfor\u001b[39;00m name, model \u001b[38;5;129;01min\u001b[39;00m models.items():\n\u001b[32m      3\u001b[39m     model.fit(X_train_scaled, y_train)\n\u001b[32m----> \u001b[39m\u001b[32m4\u001b[39m     y_pred = \u001b[43mmodel\u001b[49m\u001b[43m.\u001b[49m\u001b[43mpredict\u001b[49m\u001b[43m(\u001b[49m\u001b[43mX_test_scaled\u001b[49m\u001b[43m)\u001b[49m\n\u001b[32m      6\u001b[39m     \u001b[38;5;66;03m# Accuracy metrics\u001b[39;00m\n\u001b[32m      7\u001b[39m     train_acc = model.score(X_train_scaled, y_train)\n",
      "\u001b[36mFile \u001b[39m\u001b[32mf:\\Fake-News-Detection\\.venv\\Lib\\site-packages\\sklearn\\neighbors\\_classification.py:262\u001b[39m, in \u001b[36mKNeighborsClassifier.predict\u001b[39m\u001b[34m(self, X)\u001b[39m\n\u001b[32m    258\u001b[39m \u001b[38;5;28;01mif\u001b[39;00m \u001b[38;5;28mself\u001b[39m.weights == \u001b[33m\"\u001b[39m\u001b[33muniform\u001b[39m\u001b[33m\"\u001b[39m:\n\u001b[32m    259\u001b[39m     \u001b[38;5;28;01mif\u001b[39;00m \u001b[38;5;28mself\u001b[39m._fit_method == \u001b[33m\"\u001b[39m\u001b[33mbrute\u001b[39m\u001b[33m\"\u001b[39m \u001b[38;5;129;01mand\u001b[39;00m ArgKminClassMode.is_usable_for(\n\u001b[32m    260\u001b[39m         X, \u001b[38;5;28mself\u001b[39m._fit_X, \u001b[38;5;28mself\u001b[39m.metric\n\u001b[32m    261\u001b[39m     ):\n\u001b[32m--> \u001b[39m\u001b[32m262\u001b[39m         probabilities = \u001b[38;5;28;43mself\u001b[39;49m\u001b[43m.\u001b[49m\u001b[43mpredict_proba\u001b[49m\u001b[43m(\u001b[49m\u001b[43mX\u001b[49m\u001b[43m)\u001b[49m\n\u001b[32m    263\u001b[39m         \u001b[38;5;28;01mif\u001b[39;00m \u001b[38;5;28mself\u001b[39m.outputs_2d_:\n\u001b[32m    264\u001b[39m             \u001b[38;5;28;01mreturn\u001b[39;00m np.stack(\n\u001b[32m    265\u001b[39m                 [\n\u001b[32m    266\u001b[39m                     \u001b[38;5;28mself\u001b[39m.classes_[idx][np.argmax(probas, axis=\u001b[32m1\u001b[39m)]\n\u001b[32m   (...)\u001b[39m\u001b[32m    269\u001b[39m                 axis=\u001b[32m1\u001b[39m,\n\u001b[32m    270\u001b[39m             )\n",
      "\u001b[36mFile \u001b[39m\u001b[32mf:\\Fake-News-Detection\\.venv\\Lib\\site-packages\\sklearn\\neighbors\\_classification.py:371\u001b[39m, in \u001b[36mKNeighborsClassifier.predict_proba\u001b[39m\u001b[34m(self, X)\u001b[39m\n\u001b[32m    367\u001b[39m         \u001b[38;5;28;01mreturn\u001b[39;00m probabilities\n\u001b[32m    369\u001b[39m     \u001b[38;5;66;03m# In that case, we do not need the distances to perform\u001b[39;00m\n\u001b[32m    370\u001b[39m     \u001b[38;5;66;03m# the weighting so we do not compute them.\u001b[39;00m\n\u001b[32m--> \u001b[39m\u001b[32m371\u001b[39m     neigh_ind = \u001b[38;5;28;43mself\u001b[39;49m\u001b[43m.\u001b[49m\u001b[43mkneighbors\u001b[49m\u001b[43m(\u001b[49m\u001b[43mX\u001b[49m\u001b[43m,\u001b[49m\u001b[43m \u001b[49m\u001b[43mreturn_distance\u001b[49m\u001b[43m=\u001b[49m\u001b[38;5;28;43;01mFalse\u001b[39;49;00m\u001b[43m)\u001b[49m\n\u001b[32m    372\u001b[39m     neigh_dist = \u001b[38;5;28;01mNone\u001b[39;00m\n\u001b[32m    373\u001b[39m \u001b[38;5;28;01melse\u001b[39;00m:\n",
      "\u001b[36mFile \u001b[39m\u001b[32mf:\\Fake-News-Detection\\.venv\\Lib\\site-packages\\sklearn\\neighbors\\_base.py:906\u001b[39m, in \u001b[36mKNeighborsMixin.kneighbors\u001b[39m\u001b[34m(self, X, n_neighbors, return_distance)\u001b[39m\n\u001b[32m    903\u001b[39m     \u001b[38;5;28;01melse\u001b[39;00m:\n\u001b[32m    904\u001b[39m         kwds = \u001b[38;5;28mself\u001b[39m.effective_metric_params_\n\u001b[32m--> \u001b[39m\u001b[32m906\u001b[39m     chunked_results = \u001b[38;5;28;43mlist\u001b[39;49m\u001b[43m(\u001b[49m\n\u001b[32m    907\u001b[39m \u001b[43m        \u001b[49m\u001b[43mpairwise_distances_chunked\u001b[49m\u001b[43m(\u001b[49m\n\u001b[32m    908\u001b[39m \u001b[43m            \u001b[49m\u001b[43mX\u001b[49m\u001b[43m,\u001b[49m\n\u001b[32m    909\u001b[39m \u001b[43m            \u001b[49m\u001b[38;5;28;43mself\u001b[39;49m\u001b[43m.\u001b[49m\u001b[43m_fit_X\u001b[49m\u001b[43m,\u001b[49m\n\u001b[32m    910\u001b[39m \u001b[43m            \u001b[49m\u001b[43mreduce_func\u001b[49m\u001b[43m=\u001b[49m\u001b[43mreduce_func\u001b[49m\u001b[43m,\u001b[49m\n\u001b[32m    911\u001b[39m \u001b[43m            \u001b[49m\u001b[43mmetric\u001b[49m\u001b[43m=\u001b[49m\u001b[38;5;28;43mself\u001b[39;49m\u001b[43m.\u001b[49m\u001b[43meffective_metric_\u001b[49m\u001b[43m,\u001b[49m\n\u001b[32m    912\u001b[39m \u001b[43m            \u001b[49m\u001b[43mn_jobs\u001b[49m\u001b[43m=\u001b[49m\u001b[43mn_jobs\u001b[49m\u001b[43m,\u001b[49m\n\u001b[32m    913\u001b[39m \u001b[43m            \u001b[49m\u001b[43m*\u001b[49m\u001b[43m*\u001b[49m\u001b[43mkwds\u001b[49m\u001b[43m,\u001b[49m\n\u001b[32m    914\u001b[39m \u001b[43m        \u001b[49m\u001b[43m)\u001b[49m\n\u001b[32m    915\u001b[39m \u001b[43m    \u001b[49m\u001b[43m)\u001b[49m\n\u001b[32m    917\u001b[39m \u001b[38;5;28;01melif\u001b[39;00m \u001b[38;5;28mself\u001b[39m._fit_method \u001b[38;5;129;01min\u001b[39;00m [\u001b[33m\"\u001b[39m\u001b[33mball_tree\u001b[39m\u001b[33m\"\u001b[39m, \u001b[33m\"\u001b[39m\u001b[33mkd_tree\u001b[39m\u001b[33m\"\u001b[39m]:\n\u001b[32m    918\u001b[39m     \u001b[38;5;28;01mif\u001b[39;00m issparse(X):\n",
      "\u001b[36mFile \u001b[39m\u001b[32mf:\\Fake-News-Detection\\.venv\\Lib\\site-packages\\sklearn\\metrics\\pairwise.py:2240\u001b[39m, in \u001b[36mpairwise_distances_chunked\u001b[39m\u001b[34m(X, Y, reduce_func, metric, n_jobs, working_memory, **kwds)\u001b[39m\n\u001b[32m   2238\u001b[39m \u001b[38;5;28;01melse\u001b[39;00m:\n\u001b[32m   2239\u001b[39m     X_chunk = X[sl]\n\u001b[32m-> \u001b[39m\u001b[32m2240\u001b[39m D_chunk = \u001b[43mpairwise_distances\u001b[49m\u001b[43m(\u001b[49m\u001b[43mX_chunk\u001b[49m\u001b[43m,\u001b[49m\u001b[43m \u001b[49m\u001b[43mY\u001b[49m\u001b[43m,\u001b[49m\u001b[43m \u001b[49m\u001b[43mmetric\u001b[49m\u001b[43m=\u001b[49m\u001b[43mmetric\u001b[49m\u001b[43m,\u001b[49m\u001b[43m \u001b[49m\u001b[43mn_jobs\u001b[49m\u001b[43m=\u001b[49m\u001b[43mn_jobs\u001b[49m\u001b[43m,\u001b[49m\u001b[43m \u001b[49m\u001b[43m*\u001b[49m\u001b[43m*\u001b[49m\u001b[43mkwds\u001b[49m\u001b[43m)\u001b[49m\n\u001b[32m   2241\u001b[39m \u001b[38;5;28;01mif\u001b[39;00m (X \u001b[38;5;129;01mis\u001b[39;00m Y \u001b[38;5;129;01mor\u001b[39;00m Y \u001b[38;5;129;01mis\u001b[39;00m \u001b[38;5;28;01mNone\u001b[39;00m) \u001b[38;5;129;01mand\u001b[39;00m PAIRWISE_DISTANCE_FUNCTIONS.get(\n\u001b[32m   2242\u001b[39m     metric, \u001b[38;5;28;01mNone\u001b[39;00m\n\u001b[32m   2243\u001b[39m ) \u001b[38;5;129;01mis\u001b[39;00m euclidean_distances:\n\u001b[32m   2244\u001b[39m     \u001b[38;5;66;03m# zeroing diagonal, taking care of aliases of \"euclidean\",\u001b[39;00m\n\u001b[32m   2245\u001b[39m     \u001b[38;5;66;03m# i.e. \"l2\"\u001b[39;00m\n\u001b[32m   2246\u001b[39m     D_chunk.flat[sl.start :: _num_samples(X) + \u001b[32m1\u001b[39m] = \u001b[32m0\u001b[39m\n",
      "\u001b[36mFile \u001b[39m\u001b[32mf:\\Fake-News-Detection\\.venv\\Lib\\site-packages\\sklearn\\utils\\_param_validation.py:218\u001b[39m, in \u001b[36mvalidate_params.<locals>.decorator.<locals>.wrapper\u001b[39m\u001b[34m(*args, **kwargs)\u001b[39m\n\u001b[32m    212\u001b[39m \u001b[38;5;28;01mtry\u001b[39;00m:\n\u001b[32m    213\u001b[39m     \u001b[38;5;28;01mwith\u001b[39;00m config_context(\n\u001b[32m    214\u001b[39m         skip_parameter_validation=(\n\u001b[32m    215\u001b[39m             prefer_skip_nested_validation \u001b[38;5;129;01mor\u001b[39;00m global_skip_validation\n\u001b[32m    216\u001b[39m         )\n\u001b[32m    217\u001b[39m     ):\n\u001b[32m--> \u001b[39m\u001b[32m218\u001b[39m         \u001b[38;5;28;01mreturn\u001b[39;00m \u001b[43mfunc\u001b[49m\u001b[43m(\u001b[49m\u001b[43m*\u001b[49m\u001b[43margs\u001b[49m\u001b[43m,\u001b[49m\u001b[43m \u001b[49m\u001b[43m*\u001b[49m\u001b[43m*\u001b[49m\u001b[43mkwargs\u001b[49m\u001b[43m)\u001b[49m\n\u001b[32m    219\u001b[39m \u001b[38;5;28;01mexcept\u001b[39;00m InvalidParameterError \u001b[38;5;28;01mas\u001b[39;00m e:\n\u001b[32m    220\u001b[39m     \u001b[38;5;66;03m# When the function is just a wrapper around an estimator, we allow\u001b[39;00m\n\u001b[32m    221\u001b[39m     \u001b[38;5;66;03m# the function to delegate validation to the estimator, but we replace\u001b[39;00m\n\u001b[32m    222\u001b[39m     \u001b[38;5;66;03m# the name of the estimator by the name of the function in the error\u001b[39;00m\n\u001b[32m    223\u001b[39m     \u001b[38;5;66;03m# message to avoid confusion.\u001b[39;00m\n\u001b[32m    224\u001b[39m     msg = re.sub(\n\u001b[32m    225\u001b[39m         \u001b[33mr\u001b[39m\u001b[33m\"\u001b[39m\u001b[33mparameter of \u001b[39m\u001b[33m\\\u001b[39m\u001b[33mw+ must be\u001b[39m\u001b[33m\"\u001b[39m,\n\u001b[32m    226\u001b[39m         \u001b[33mf\u001b[39m\u001b[33m\"\u001b[39m\u001b[33mparameter of \u001b[39m\u001b[38;5;132;01m{\u001b[39;00mfunc.\u001b[34m__qualname__\u001b[39m\u001b[38;5;132;01m}\u001b[39;00m\u001b[33m must be\u001b[39m\u001b[33m\"\u001b[39m,\n\u001b[32m    227\u001b[39m         \u001b[38;5;28mstr\u001b[39m(e),\n\u001b[32m    228\u001b[39m     )\n",
      "\u001b[36mFile \u001b[39m\u001b[32mf:\\Fake-News-Detection\\.venv\\Lib\\site-packages\\sklearn\\metrics\\pairwise.py:2477\u001b[39m, in \u001b[36mpairwise_distances\u001b[39m\u001b[34m(X, Y, metric, n_jobs, force_all_finite, ensure_all_finite, **kwds)\u001b[39m\n\u001b[32m   2474\u001b[39m         \u001b[38;5;28;01mreturn\u001b[39;00m distance.squareform(distance.pdist(X, metric=metric, **kwds))\n\u001b[32m   2475\u001b[39m     func = partial(distance.cdist, metric=metric, **kwds)\n\u001b[32m-> \u001b[39m\u001b[32m2477\u001b[39m \u001b[38;5;28;01mreturn\u001b[39;00m \u001b[43m_parallel_pairwise\u001b[49m\u001b[43m(\u001b[49m\u001b[43mX\u001b[49m\u001b[43m,\u001b[49m\u001b[43m \u001b[49m\u001b[43mY\u001b[49m\u001b[43m,\u001b[49m\u001b[43m \u001b[49m\u001b[43mfunc\u001b[49m\u001b[43m,\u001b[49m\u001b[43m \u001b[49m\u001b[43mn_jobs\u001b[49m\u001b[43m,\u001b[49m\u001b[43m \u001b[49m\u001b[43m*\u001b[49m\u001b[43m*\u001b[49m\u001b[43mkwds\u001b[49m\u001b[43m)\u001b[49m\n",
      "\u001b[36mFile \u001b[39m\u001b[32mf:\\Fake-News-Detection\\.venv\\Lib\\site-packages\\sklearn\\metrics\\pairwise.py:1960\u001b[39m, in \u001b[36m_parallel_pairwise\u001b[39m\u001b[34m(X, Y, func, n_jobs, **kwds)\u001b[39m\n\u001b[32m   1957\u001b[39m X, Y, dtype = _return_float_dtype(X, Y)\n\u001b[32m   1959\u001b[39m \u001b[38;5;28;01mif\u001b[39;00m effective_n_jobs(n_jobs) == \u001b[32m1\u001b[39m:\n\u001b[32m-> \u001b[39m\u001b[32m1960\u001b[39m     \u001b[38;5;28;01mreturn\u001b[39;00m \u001b[43mfunc\u001b[49m\u001b[43m(\u001b[49m\u001b[43mX\u001b[49m\u001b[43m,\u001b[49m\u001b[43m \u001b[49m\u001b[43mY\u001b[49m\u001b[43m,\u001b[49m\u001b[43m \u001b[49m\u001b[43m*\u001b[49m\u001b[43m*\u001b[49m\u001b[43mkwds\u001b[49m\u001b[43m)\u001b[49m\n\u001b[32m   1962\u001b[39m \u001b[38;5;66;03m# enforce a threading backend to prevent data communication overhead\u001b[39;00m\n\u001b[32m   1963\u001b[39m fd = delayed(_dist_wrapper)\n",
      "\u001b[36mFile \u001b[39m\u001b[32mf:\\Fake-News-Detection\\.venv\\Lib\\site-packages\\sklearn\\utils\\_param_validation.py:191\u001b[39m, in \u001b[36mvalidate_params.<locals>.decorator.<locals>.wrapper\u001b[39m\u001b[34m(*args, **kwargs)\u001b[39m\n\u001b[32m    189\u001b[39m global_skip_validation = get_config()[\u001b[33m\"\u001b[39m\u001b[33mskip_parameter_validation\u001b[39m\u001b[33m\"\u001b[39m]\n\u001b[32m    190\u001b[39m \u001b[38;5;28;01mif\u001b[39;00m global_skip_validation:\n\u001b[32m--> \u001b[39m\u001b[32m191\u001b[39m     \u001b[38;5;28;01mreturn\u001b[39;00m \u001b[43mfunc\u001b[49m\u001b[43m(\u001b[49m\u001b[43m*\u001b[49m\u001b[43margs\u001b[49m\u001b[43m,\u001b[49m\u001b[43m \u001b[49m\u001b[43m*\u001b[49m\u001b[43m*\u001b[49m\u001b[43mkwargs\u001b[49m\u001b[43m)\u001b[49m\n\u001b[32m    193\u001b[39m func_sig = signature(func)\n\u001b[32m    195\u001b[39m \u001b[38;5;66;03m# Map *args/**kwargs to the function signature\u001b[39;00m\n",
      "\u001b[36mFile \u001b[39m\u001b[32mf:\\Fake-News-Detection\\.venv\\Lib\\site-packages\\sklearn\\metrics\\pairwise.py:388\u001b[39m, in \u001b[36meuclidean_distances\u001b[39m\u001b[34m(X, Y, Y_norm_squared, squared, X_norm_squared)\u001b[39m\n\u001b[32m    382\u001b[39m     \u001b[38;5;28;01mif\u001b[39;00m Y_norm_squared.shape != (\u001b[32m1\u001b[39m, Y.shape[\u001b[32m0\u001b[39m]):\n\u001b[32m    383\u001b[39m         \u001b[38;5;28;01mraise\u001b[39;00m \u001b[38;5;167;01mValueError\u001b[39;00m(\n\u001b[32m    384\u001b[39m             \u001b[33mf\u001b[39m\u001b[33m\"\u001b[39m\u001b[33mIncompatible dimensions for Y of shape \u001b[39m\u001b[38;5;132;01m{\u001b[39;00mY.shape\u001b[38;5;132;01m}\u001b[39;00m\u001b[33m and \u001b[39m\u001b[33m\"\u001b[39m\n\u001b[32m    385\u001b[39m             \u001b[33mf\u001b[39m\u001b[33m\"\u001b[39m\u001b[33mY_norm_squared of shape \u001b[39m\u001b[38;5;132;01m{\u001b[39;00moriginal_shape\u001b[38;5;132;01m}\u001b[39;00m\u001b[33m.\u001b[39m\u001b[33m\"\u001b[39m\n\u001b[32m    386\u001b[39m         )\n\u001b[32m--> \u001b[39m\u001b[32m388\u001b[39m \u001b[38;5;28;01mreturn\u001b[39;00m \u001b[43m_euclidean_distances\u001b[49m\u001b[43m(\u001b[49m\u001b[43mX\u001b[49m\u001b[43m,\u001b[49m\u001b[43m \u001b[49m\u001b[43mY\u001b[49m\u001b[43m,\u001b[49m\u001b[43m \u001b[49m\u001b[43mX_norm_squared\u001b[49m\u001b[43m,\u001b[49m\u001b[43m \u001b[49m\u001b[43mY_norm_squared\u001b[49m\u001b[43m,\u001b[49m\u001b[43m \u001b[49m\u001b[43msquared\u001b[49m\u001b[43m)\u001b[49m\n",
      "\u001b[36mFile \u001b[39m\u001b[32mf:\\Fake-News-Detection\\.venv\\Lib\\site-packages\\sklearn\\metrics\\pairwise.py:428\u001b[39m, in \u001b[36m_euclidean_distances\u001b[39m\u001b[34m(X, Y, X_norm_squared, Y_norm_squared, squared)\u001b[39m\n\u001b[32m    425\u001b[39m     distances += XX\n\u001b[32m    426\u001b[39m     distances += YY\n\u001b[32m--> \u001b[39m\u001b[32m428\u001b[39m xp_zero = \u001b[43mxp\u001b[49m\u001b[43m.\u001b[49m\u001b[43masarray\u001b[49m\u001b[43m(\u001b[49m\u001b[32;43m0\u001b[39;49m\u001b[43m,\u001b[49m\u001b[43m \u001b[49m\u001b[43mdevice\u001b[49m\u001b[43m=\u001b[49m\u001b[43mdevice_\u001b[49m\u001b[43m,\u001b[49m\u001b[43m \u001b[49m\u001b[43mdtype\u001b[49m\u001b[43m=\u001b[49m\u001b[43mdistances\u001b[49m\u001b[43m.\u001b[49m\u001b[43mdtype\u001b[49m\u001b[43m)\u001b[49m\n\u001b[32m    429\u001b[39m distances = _modify_in_place_if_numpy(\n\u001b[32m    430\u001b[39m     xp, xp.maximum, distances, xp_zero, out=distances\n\u001b[32m    431\u001b[39m )\n\u001b[32m    433\u001b[39m \u001b[38;5;66;03m# Ensure that distances between vectors and themselves are set to 0.0.\u001b[39;00m\n\u001b[32m    434\u001b[39m \u001b[38;5;66;03m# This may not be the case due to floating point rounding errors.\u001b[39;00m\n",
      "\u001b[36mFile \u001b[39m\u001b[32mf:\\Fake-News-Detection\\.venv\\Lib\\site-packages\\sklearn\\externals\\array_api_compat\\numpy\\_aliases.py:78\u001b[39m, in \u001b[36masarray\u001b[39m\u001b[34m(obj, dtype, device, copy, **kwargs)\u001b[39m\n\u001b[32m     72\u001b[39m     \u001b[38;5;28;01mreturn\u001b[39;00m \u001b[38;5;28;01mTrue\u001b[39;00m\n\u001b[32m     74\u001b[39m \u001b[38;5;66;03m# asarray also adds the copy keyword, which is not present in numpy 1.0.\u001b[39;00m\n\u001b[32m     75\u001b[39m \u001b[38;5;66;03m# asarray() is different enough between numpy, cupy, and dask, the logic\u001b[39;00m\n\u001b[32m     76\u001b[39m \u001b[38;5;66;03m# complicated enough that it's easier to define it separately for each module\u001b[39;00m\n\u001b[32m     77\u001b[39m \u001b[38;5;66;03m# rather than trying to combine everything into one function in common/\u001b[39;00m\n\u001b[32m---> \u001b[39m\u001b[32m78\u001b[39m \u001b[38;5;28;01mdef\u001b[39;00m\u001b[38;5;250m \u001b[39m\u001b[34masarray\u001b[39m(\n\u001b[32m     79\u001b[39m     obj: Union[\n\u001b[32m     80\u001b[39m         ndarray,\n\u001b[32m     81\u001b[39m         \u001b[38;5;28mbool\u001b[39m,\n\u001b[32m     82\u001b[39m         \u001b[38;5;28mint\u001b[39m,\n\u001b[32m     83\u001b[39m         \u001b[38;5;28mfloat\u001b[39m,\n\u001b[32m     84\u001b[39m         NestedSequence[\u001b[38;5;28mbool\u001b[39m | \u001b[38;5;28mint\u001b[39m | \u001b[38;5;28mfloat\u001b[39m],\n\u001b[32m     85\u001b[39m         SupportsBufferProtocol,\n\u001b[32m     86\u001b[39m     ],\n\u001b[32m     87\u001b[39m     /,\n\u001b[32m     88\u001b[39m     *,\n\u001b[32m     89\u001b[39m     dtype: Optional[Dtype] = \u001b[38;5;28;01mNone\u001b[39;00m,\n\u001b[32m     90\u001b[39m     device: Optional[Device] = \u001b[38;5;28;01mNone\u001b[39;00m,\n\u001b[32m     91\u001b[39m     copy: \u001b[33m\"\u001b[39m\u001b[33mOptional[Union[bool, np._CopyMode]]\u001b[39m\u001b[33m\"\u001b[39m = \u001b[38;5;28;01mNone\u001b[39;00m,\n\u001b[32m     92\u001b[39m     **kwargs,\n\u001b[32m     93\u001b[39m ) -> ndarray:\n\u001b[32m     94\u001b[39m \u001b[38;5;250m    \u001b[39m\u001b[33;03m\"\"\"\u001b[39;00m\n\u001b[32m     95\u001b[39m \u001b[33;03m    Array API compatibility wrapper for asarray().\u001b[39;00m\n\u001b[32m     96\u001b[39m \n\u001b[32m     97\u001b[39m \u001b[33;03m    See the corresponding documentation in the array library and/or the array API\u001b[39;00m\n\u001b[32m     98\u001b[39m \u001b[33;03m    specification for more details.\u001b[39;00m\n\u001b[32m     99\u001b[39m \u001b[33;03m    \"\"\"\u001b[39;00m\n\u001b[32m    100\u001b[39m     \u001b[38;5;28;01mif\u001b[39;00m device \u001b[38;5;129;01mnot\u001b[39;00m \u001b[38;5;129;01min\u001b[39;00m [\u001b[33m\"\u001b[39m\u001b[33mcpu\u001b[39m\u001b[33m\"\u001b[39m, \u001b[38;5;28;01mNone\u001b[39;00m]:\n",
      "\u001b[31mKeyboardInterrupt\u001b[39m: "
     ]
    }
   ],
   "source": [
    "# Loop through models\n",
    "for name, model in models.items():\n",
    "    model.fit(X_train_scaled, y_train)\n",
    "    y_pred = model.predict(X_test_scaled)\n",
    "\n",
    "    # Accuracy metrics\n",
    "    train_acc = model.score(X_train_scaled, y_train)\n",
    "    test_acc = model.score(X_test_scaled, y_test)\n",
    "    acc = accuracy_score(y_test, y_pred)\n",
    "    pre = precision_score(y_test, y_pred)\n",
    "    rec = recall_score(y_test, y_pred)\n",
    "    f1 = f1_score(y_test, y_pred)\n",
    "\n",
    "    print(f\"\\n📌 {name}\")\n",
    "    print(\"Training Accuracy:\", round(train_acc, 4))\n",
    "    print(\"Testing Accuracy :\", round(test_acc, 4))\n",
    "    print(\"Precision         :\", round(pre, 4))\n",
    "    print(\"Recall            :\", round(rec, 4))\n",
    "    print(\"F1 Score          :\", round(f1, 4))\n",
    "    print(\"Confusion Matrix:\\n\", confusion_matrix(y_test, y_pred))\n",
    "\n",
    "    # Save results\n",
    "    results[name] = [acc, pre, rec, f1]\n",
    "\n",
    "    # Overfit/Underfit Check\n",
    "    print(\"🔍 Fit Check:\", end=\" \")\n",
    "    if train_acc > 0.95 and (train_acc - test_acc) > 0.10:\n",
    "        print(\"⚠️ Overfitting detected.\")\n",
    "    elif train_acc < 0.75 and test_acc < 0.75:\n",
    "        print(\"⚠️ Underfitting detected.\")\n",
    "    else:\n",
    "        print(\"✅ Model is well-fitted.\")\n"
   ]
  },
  {
   "cell_type": "code",
   "execution_count": null,
   "id": "1f871ab2",
   "metadata": {},
   "outputs": [
    {
     "data": {
      "image/png": "[encoded data removed]",
      "text/plain": [
       "<Figure size 640x480 with 2 Axes>"
      ]
     },
     "metadata": {},
     "output_type": "display_data"
    }
   ],
   "source": [
    "from sklearn.metrics import confusion_matrix\n",
    "cm = confusion_matrix(y_test, y_pred)\n",
    "sns.heatmap(cm, annot=True, fmt='d', cmap='Blues')\n",
    "plt.title(\"Confusion Matrix\")\n",
    "plt.xlabel(\"Predicted\")\n",
    "plt.ylabel(\"Actual\")\n",
    "plt.show()"
   ]
  }
 ],
 "metadata": {
  "kernelspec": {
   "display_name": ".venv",
   "language": "python",
   "name": "python3"
  },
  "language_info": {
   "codemirror_mode": {
    "name": "ipython",
    "version": 3
   },
   "file_extension": ".py",
   "mimetype": "text/x-python",
   "name": "python",
   "nbconvert_exporter": "python",
   "pygments_lexer": "ipython3",
   "version": "3.12.3"
  }
 },
 "nbformat": 4,
 "nbformat_minor": 5
}
