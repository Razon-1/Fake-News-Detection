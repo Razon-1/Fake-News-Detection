{
 "cells": [
  {
   "cell_type": "code",
   "execution_count": 2,
   "id": "333d8b46",
   "metadata": {},
   "outputs": [],
   "source": [
    "import pandas as pd\n",
    "import numpy as np\n",
    "import matplotlib.pyplot as plt\n",
    "import seaborn as sns\n",
    "import warnings\n",
    "warnings.filterwarnings(\"ignore\")"
   ]
  },
  {
   "cell_type": "code",
   "execution_count": 3,
   "id": "4d1237bc",
   "metadata": {},
   "outputs": [],
   "source": [
    "from sklearn.model_selection import train_test_split\n",
    "from sklearn.feature_extraction.text import TfidfVectorizer\n",
    "from sklearn.preprocessing import StandardScaler\n",
    "from sklearn.feature_selection import SelectKBest, chi2\n",
    "from sklearn.decomposition import PCA"
   ]
  },
  {
   "cell_type": "code",
   "execution_count": 4,
   "id": "5fa9ac1e",
   "metadata": {},
   "outputs": [],
   "source": [
    "from sklearn.ensemble import RandomForestClassifier, VotingClassifier\n",
    "from sklearn.linear_model import LogisticRegression\n",
    "from sklearn.neighbors import KNeighborsClassifier\n",
    "from sklearn.tree import DecisionTreeClassifier"
   ]
  },
  {
   "cell_type": "code",
   "execution_count": 5,
   "id": "19c0da84",
   "metadata": {},
   "outputs": [],
   "source": [
    "from sklearn.metrics import accuracy_score, classification_report, confusion_matrix, precision_score, recall_score, f1_score\n"
   ]
  },
  {
   "cell_type": "code",
   "execution_count": 6,
   "id": "19cf6bb5",
   "metadata": {},
   "outputs": [],
   "source": [
    "fake_df = pd.read_csv(\"Fake.csv\")\n",
    "true_df = pd.read_csv(\"True.csv\")"
   ]
  },
  {
   "cell_type": "code",
   "execution_count": 7,
   "id": "942403b6",
   "metadata": {},
   "outputs": [],
   "source": [
    "fake_df['label'] = 0  # Fake\n",
    "true_df['label'] = 1  # True"
   ]
  },
  {
   "cell_type": "code",
   "execution_count": 8,
   "id": "f3fafcec",
   "metadata": {},
   "outputs": [],
   "source": [
    "df = pd.concat([fake_df, true_df], axis=0).reset_index(drop=True)"
   ]
  },
  {
   "cell_type": "code",
   "execution_count": 9,
   "id": "7fa8b041",
   "metadata": {},
   "outputs": [],
   "source": [
    "df['content'] = df['title'] + \" \" + df['text']\n",
    "df['content'] = df['content'].str.lower().str.replace(r\"[^a-zA-Z\\s]\", \"\", regex=True)\n"
   ]
  },
  {
   "cell_type": "code",
   "execution_count": 10,
   "id": "ee1567fd",
   "metadata": {},
   "outputs": [],
   "source": [
    "X = df['content']\n",
    "y = df['label']\n",
    "X_train, X_test, y_train, y_test = train_test_split(\n",
    "    X, y, test_size=0.2, stratify=y, random_state=42\n",
    ")"
   ]
  },
  {
   "cell_type": "code",
   "execution_count": 12,
   "id": "75390349",
   "metadata": {},
   "outputs": [],
   "source": [
    "selector = SelectKBest(chi2, k=5000)\n",
    "X_train_sel = selector.fit_transform(X_train_vec, y_train)\n",
    "X_test_sel = selector.transform(X_test_vec)"
   ]
  },
  {
   "cell_type": "code",
   "execution_count": 13,
   "id": "b08ae6f0",
   "metadata": {},
   "outputs": [],
   "source": [
    "scaler = StandardScaler(with_mean=False)\n",
    "X_train_scaled = scaler.fit_transform(X_train_sel)\n",
    "X_test_scaled = scaler.transform(X_test_sel)"
   ]
  },
  {
   "cell_type": "code",
   "execution_count": 14,
   "id": "4eff00d3",
   "metadata": {},
   "outputs": [],
   "source": [
    "models = {\n",
    "    \"Random Forest\": RandomForestClassifier(n_estimators=100),\n",
    "    \"Logistic Regression\": LogisticRegression(max_iter=1000),\n",
    "    \"KNN\": KNeighborsClassifier(),\n",
    "    \"Decision Tree\": DecisionTreeClassifier()\n",
    "}\n",
    "\n",
    "results = {}"
   ]
  },
  {
   "cell_type": "code",
   "execution_count": 15,
   "id": "f605f3d3",
   "metadata": {},
   "outputs": [
    {
     "name": "stdout",
     "output_type": "stream",
     "text": [
      "\n",
      "📌 Random Forest\n",
      "Accuracy: 0.9986636971046771\n",
      "Precision: 0.9983667755482968\n",
      "Recall: 0.9988328664799253\n",
      "F1 Score: 0.9985997666277713\n",
      "Confusion Matrix:\n",
      " [[4689    7]\n",
      " [   5 4279]]\n",
      "\n",
      "📌 Logistic Regression\n",
      "Accuracy: 0.995879732739421\n",
      "Precision: 0.9957973383142658\n",
      "Recall: 0.9955648926237162\n",
      "F1 Score: 0.9956811019026497\n",
      "Confusion Matrix:\n",
      " [[4678   18]\n",
      " [  19 4265]]\n",
      "\n",
      "📌 KNN\n",
      "Accuracy: 0.7047884187082405\n",
      "Precision: 0.9695227142035653\n",
      "Recall: 0.39355742296918766\n",
      "F1 Score: 0.5598538934086004\n",
      "Confusion Matrix:\n",
      " [[4643   53]\n",
      " [2598 1686]]\n",
      "\n",
      "📌 KNN\n",
      "Accuracy: 0.7047884187082405\n",
      "Precision: 0.9695227142035653\n",
      "Recall: 0.39355742296918766\n",
      "F1 Score: 0.5598538934086004\n",
      "Confusion Matrix:\n",
      " [[4643   53]\n",
      " [2598 1686]]\n",
      "\n",
      "📌 Decision Tree\n",
      "Accuracy: 0.9955456570155902\n",
      "Precision: 0.9951003266448903\n",
      "Recall: 0.9955648926237162\n",
      "F1 Score: 0.9953325554259043\n",
      "Confusion Matrix:\n",
      " [[4675   21]\n",
      " [  19 4265]]\n",
      "\n",
      "📌 Decision Tree\n",
      "Accuracy: 0.9955456570155902\n",
      "Precision: 0.9951003266448903\n",
      "Recall: 0.9955648926237162\n",
      "F1 Score: 0.9953325554259043\n",
      "Confusion Matrix:\n",
      " [[4675   21]\n",
      " [  19 4265]]\n"
     ]
    }
   ],
   "source": [
    "for name, model in models.items():\n",
    "    model.fit(X_train_scaled, y_train)\n",
    "    y_pred = model.predict(X_test_scaled)\n",
    "\n",
    "    acc = accuracy_score(y_test, y_pred)\n",
    "    pre = precision_score(y_test, y_pred)\n",
    "    rec = recall_score(y_test, y_pred)\n",
    "    f1 = f1_score(y_test, y_pred)\n",
    "\n",
    "    print(f\"\\n📌 {name}\")\n",
    "    print(\"Accuracy:\", acc)\n",
    "    print(\"Precision:\", pre)\n",
    "    print(\"Recall:\", rec)\n",
    "    print(\"F1 Score:\", f1)\n",
    "    print(\"Confusion Matrix:\\n\", confusion_matrix(y_test, y_pred))\n",
    "\n",
    "    results[name] = [acc, pre, rec, f1]"
   ]
  },
  {
   "cell_type": "code",
   "execution_count": 16,
   "id": "b989bd15",
   "metadata": {},
   "outputs": [
    {
     "name": "stdout",
     "output_type": "stream",
     "text": [
      "\n",
      "📌 Ensemble Voting Classifier (Models: Random Forest, Logistic Regression, Decision Tree)\n",
      "Accuracy: 0.9986636971046771\n",
      "F1 Score: 0.9986000933271115\n",
      "Confusion Matrix:\n",
      " [[4688    8]\n",
      " [   4 4280]]\n",
      "\n",
      "🏆 Best Individual Model: Random Forest (F1 Score: 0.9986)\n"
     ]
    }
   ],
   "source": [
    "voting_model = VotingClassifier(\n",
    "    estimators=[\n",
    "        ('rf', models[\"Random Forest\"]),\n",
    "        ('lr', models[\"Logistic Regression\"]),\n",
    "        ('dt', models[\"Decision Tree\"])\n",
    "    ],\n",
    "    voting='hard'\n",
    ")\n",
    "voting_model.fit(X_train_scaled, y_train)\n",
    "y_vote = voting_model.predict(X_test_scaled)\n",
    "\n",
    "model_names = []\n",
    "for name, model in voting_model.estimators:\n",
    "    if isinstance(model, RandomForestClassifier):\n",
    "        model_names.append(\"Random Forest\")\n",
    "    elif isinstance(model, LogisticRegression):\n",
    "        model_names.append(\"Logistic Regression\")\n",
    "    elif isinstance(model, KNeighborsClassifier):\n",
    "        model_names.append(\"KNN\")\n",
    "    elif isinstance(model, DecisionTreeClassifier):\n",
    "        model_names.append(\"Decision Tree\")\n",
    "    else:\n",
    "        model_names.append(name)\n",
    "\n",
    "# Evaluate all models to find the best one\n",
    "best_model = None\n",
    "best_f1 = -1\n",
    "for name, model in models.items():\n",
    "    y_pred = model.predict(X_test_scaled)\n",
    "    f1 = f1_score(y_test, y_pred)\n",
    "    if f1 > best_f1:\n",
    "        best_f1 = f1\n",
    "        best_model = name\n",
    "\n",
    "print(f\"\\n📌 Ensemble Voting Classifier (Models: {', '.join(model_names)})\")\n",
    "print(\"Accuracy:\", accuracy_score(y_test, y_vote))\n",
    "print(\"F1 Score:\", f1_score(y_test, y_vote))\n",
    "print(\"Confusion Matrix:\\n\", confusion_matrix(y_test, y_vote))\n",
    "print(f\"\\n🏆 Best Individual Model: {best_model} (F1 Score: {best_f1:.4f})\")"
   ]
  },
  {
   "cell_type": "code",
   "execution_count": 17,
   "id": "80eb1058",
   "metadata": {},
   "outputs": [
    {
     "data": {
      "image/png": "[encoded data removed]",
      "text/plain": [
       "<Figure size 1200x600 with 1 Axes>"
      ]
     },
     "metadata": {},
     "output_type": "display_data"
    }
   ],
   "source": [
    "results_df = pd.DataFrame(results, index=[\"Accuracy\", \"Precision\", \"Recall\", \"F1\"]).T\n",
    "results_df.plot(kind='bar', figsize=(12, 6), title=\"Model Performance Comparison\")\n",
    "plt.ylabel(\"Score\")\n",
    "plt.ylim(0.5, 1.0)\n",
    "plt.grid(True)\n",
    "plt.tight_layout()\n",
    "plt.show()"
   ]
  },
  {
   "cell_type": "code",
   "execution_count": 19,
   "id": "c175f742",
   "metadata": {},
   "outputs": [
    {
     "name": "stdout",
     "output_type": "stream",
     "text": [
      "\n",
      "📌 Random Forest\n",
      "Training Accuracy: 1.0\n",
      "Testing Accuracy : 0.9984\n",
      "Precision         : 0.9984\n",
      "Recall            : 0.9984\n",
      "F1 Score          : 0.9984\n",
      "Confusion Matrix:\n",
      " [[4689    7]\n",
      " [   7 4277]]\n",
      "🔍 Fit Check: ✅ Model is well-fitted.\n",
      "\n",
      "📌 Logistic Regression\n",
      "Training Accuracy: 1.0\n",
      "Testing Accuracy : 0.9959\n",
      "Precision         : 0.9958\n",
      "Recall            : 0.9956\n",
      "F1 Score          : 0.9957\n",
      "Confusion Matrix:\n",
      " [[4678   18]\n",
      " [  19 4265]]\n",
      "🔍 Fit Check: ✅ Model is well-fitted.\n",
      "\n",
      "📌 KNN\n",
      "Training Accuracy: 0.7412\n",
      "Testing Accuracy : 0.7048\n",
      "Precision         : 0.9695\n",
      "Recall            : 0.3936\n",
      "F1 Score          : 0.5599\n",
      "Confusion Matrix:\n",
      " [[4643   53]\n",
      " [2598 1686]]\n",
      "🔍 Fit Check: ⚠️ Underfitting detected.\n",
      "\n",
      "📌 KNN\n",
      "Training Accuracy: 0.7412\n",
      "Testing Accuracy : 0.7048\n",
      "Precision         : 0.9695\n",
      "Recall            : 0.3936\n",
      "F1 Score          : 0.5599\n",
      "Confusion Matrix:\n",
      " [[4643   53]\n",
      " [2598 1686]]\n",
      "🔍 Fit Check: ⚠️ Underfitting detected.\n",
      "\n",
      "📌 Decision Tree\n",
      "Training Accuracy: 1.0\n",
      "Testing Accuracy : 0.996\n",
      "Precision         : 0.9958\n",
      "Recall            : 0.9958\n",
      "F1 Score          : 0.9958\n",
      "Confusion Matrix:\n",
      " [[4678   18]\n",
      " [  18 4266]]\n",
      "🔍 Fit Check: ✅ Model is well-fitted.\n",
      "\n",
      "📌 Decision Tree\n",
      "Training Accuracy: 1.0\n",
      "Testing Accuracy : 0.996\n",
      "Precision         : 0.9958\n",
      "Recall            : 0.9958\n",
      "F1 Score          : 0.9958\n",
      "Confusion Matrix:\n",
      " [[4678   18]\n",
      " [  18 4266]]\n",
      "🔍 Fit Check: ✅ Model is well-fitted.\n"
     ]
    }
   ],
   "source": [
    "# Loop through models\n",
    "for name, model in models.items():\n",
    "    model.fit(X_train_scaled, y_train)\n",
    "    y_pred = model.predict(X_test_scaled)\n",
    "\n",
    "    # Accuracy metrics\n",
    "    train_acc = model.score(X_train_scaled, y_train)\n",
    "    test_acc = model.score(X_test_scaled, y_test)\n",
    "    acc = accuracy_score(y_test, y_pred)\n",
    "    pre = precision_score(y_test, y_pred)\n",
    "    rec = recall_score(y_test, y_pred)\n",
    "    f1 = f1_score(y_test, y_pred)\n",
    "\n",
    "    print(f\"\\n📌 {name}\")\n",
    "    print(\"Training Accuracy:\", round(train_acc, 4))\n",
    "    print(\"Testing Accuracy :\", round(test_acc, 4))\n",
    "    print(\"Precision         :\", round(pre, 4))\n",
    "    print(\"Recall            :\", round(rec, 4))\n",
    "    print(\"F1 Score          :\", round(f1, 4))\n",
    "    print(\"Confusion Matrix:\\n\", confusion_matrix(y_test, y_pred))\n",
    "\n",
    "    # Save results\n",
    "    results[name] = [acc, pre, rec, f1]\n",
    "\n",
    "    # Overfit/Underfit Check\n",
    "    print(\"🔍 Fit Check:\", end=\" \")\n",
    "    if train_acc > 0.95 and (train_acc - test_acc) > 0.10:\n",
    "        print(\"⚠️ Overfitting detected.\")\n",
    "    elif train_acc < 0.75 and test_acc < 0.75:\n",
    "        print(\"⚠️ Underfitting detected.\")\n",
    "    else:\n",
    "        print(\"✅ Model is well-fitted.\")\n"
   ]
  }
 ],
 "metadata": {
  "kernelspec": {
   "display_name": ".venv",
   "language": "python",
   "name": "python3"
  },
  "language_info": {
   "codemirror_mode": {
    "name": "ipython",
    "version": 3
   },
   "file_extension": ".py",
   "mimetype": "text/x-python",
   "name": "python",
   "nbconvert_exporter": "python",
   "pygments_lexer": "ipython3",
   "version": "3.12.3"
  }
 },
 "nbformat": 4,
 "nbformat_minor": 5
}
